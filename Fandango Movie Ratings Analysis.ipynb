{
 "cells": [
  {
   "cell_type": "markdown",
   "metadata": {},
   "source": [
    "## Analyzing Fandango's Movie Ratings System\n",
    "\n",
    "In this project, we'll be looking at Fandango's movie ratings system.\n",
    "\n",
    "In 2015, Walt Hickey wrote [an article](https://fivethirtyeight.com/features/fandango-movies-ratings/) on Fandango's movie ratings, showing that there was a discrepancy between the ratings that site visitors were shown for each movie and the actual rating as recorded in the HTML code of the page, leading him to accuse Fandango of dishonesty and bias.\n",
    "\n",
    "The cause of this issue has supposedly been fixed, but in this project, we'll be investigating whether the ratings system has changed at all since Hickey's analysis in 2015.\n",
    "\n",
    "To do this, we'll be looking at the ratings system's characteristics before and after Hickey's analysis in order to determine whether there has been any change. We'll use the data Hickey collected himself for the \"before\" dataset, and data collected by Dataquest for the \"after\" dataset."
   ]
  },
  {
   "cell_type": "code",
   "execution_count": 2,
   "metadata": {},
   "outputs": [],
   "source": [
    "import pandas as pd\n",
    "\n",
    "before = pd.read_csv(\"fandango_score_comparison.csv\")\n",
    "after = pd.read_csv(\"movie_ratings_16_17.csv\")"
   ]
  },
  {
   "cell_type": "code",
   "execution_count": 10,
   "metadata": {},
   "outputs": [
    {
     "name": "stdout",
     "output_type": "stream",
     "text": [
      "['FILM', 'RottenTomatoes', 'RottenTomatoes_User', 'Metacritic', 'Metacritic_User', 'IMDB', 'Fandango_Stars', 'Fandango_Ratingvalue', 'RT_norm', 'RT_user_norm', 'Metacritic_norm', 'Metacritic_user_nom', 'IMDB_norm', 'RT_norm_round', 'RT_user_norm_round', 'Metacritic_norm_round', 'Metacritic_user_norm_round', 'IMDB_norm_round', 'Metacritic_user_vote_count', 'IMDB_user_vote_count', 'Fandango_votes', 'Fandango_Difference']\n"
     ]
    },
    {
     "data": {
      "text/plain": [
       "FILM                          Avengers: Age of Ultron (2015)\n",
       "RottenTomatoes                                            74\n",
       "RottenTomatoes_User                                       86\n",
       "Metacritic                                                66\n",
       "Metacritic_User                                          7.1\n",
       "IMDB                                                     7.8\n",
       "Fandango_Stars                                             5\n",
       "Fandango_Ratingvalue                                     4.5\n",
       "RT_norm                                                  3.7\n",
       "RT_user_norm                                             4.3\n",
       "Metacritic_norm                                          3.3\n",
       "Metacritic_user_nom                                     3.55\n",
       "IMDB_norm                                                3.9\n",
       "RT_norm_round                                            3.5\n",
       "RT_user_norm_round                                       4.5\n",
       "Metacritic_norm_round                                    3.5\n",
       "Metacritic_user_norm_round                               3.5\n",
       "IMDB_norm_round                                            4\n",
       "Metacritic_user_vote_count                              1330\n",
       "IMDB_user_vote_count                                  271107\n",
       "Fandango_votes                                         14846\n",
       "Fandango_Difference                                      0.5\n",
       "Name: 0, dtype: object"
      ]
     },
     "execution_count": 10,
     "metadata": {},
     "output_type": "execute_result"
    }
   ],
   "source": [
    "print(list(before))\n",
    "before.loc[0]"
   ]
  },
  {
   "cell_type": "code",
   "execution_count": 9,
   "metadata": {},
   "outputs": [
    {
     "name": "stdout",
     "output_type": "stream",
     "text": [
      "['movie', 'year', 'metascore', 'imdb', 'tmeter', 'audience', 'fandango', 'n_metascore', 'n_imdb', 'n_tmeter', 'n_audience', 'nr_metascore', 'nr_imdb', 'nr_tmeter', 'nr_audience']\n"
     ]
    },
    {
     "data": {
      "text/plain": [
       "movie           10 Cloverfield Lane\n",
       "year                           2016\n",
       "metascore                        76\n",
       "imdb                            7.2\n",
       "tmeter                           90\n",
       "audience                         79\n",
       "fandango                        3.5\n",
       "n_metascore                     3.8\n",
       "n_imdb                          3.6\n",
       "n_tmeter                        4.5\n",
       "n_audience                     3.95\n",
       "nr_metascore                      4\n",
       "nr_imdb                         3.5\n",
       "nr_tmeter                       4.5\n",
       "nr_audience                       4\n",
       "Name: 0, dtype: object"
      ]
     },
     "execution_count": 9,
     "metadata": {},
     "output_type": "execute_result"
    }
   ],
   "source": [
    "print(list(after))\n",
    "after.loc[0]"
   ]
  },
  {
   "cell_type": "markdown",
   "metadata": {},
   "source": [
    "We only care about whether the Fandango ratings have changed, so let's store the relevant columns from each dataset so that we can access them more easily."
   ]
  },
  {
   "cell_type": "code",
   "execution_count": 14,
   "metadata": {},
   "outputs": [],
   "source": [
    "cut_before = before[[\"FILM\", \"Fandango_Stars\", \"Fandango_Ratingvalue\", \"Fandango_votes\", \"Fandango_Difference\"]]\n",
    "cut_after = after[[\"movie\", \"year\", \"fandango\"]]"
   ]
  },
  {
   "cell_type": "markdown",
   "metadata": {},
   "source": [
    "It should be noted that the data that we have does not constitute the entire population, but is rather only a sample of the movies that Fandango has rated. The \"before\" dataset has every film with a Rotten Tomatoes rating, a RT user rating, a Metacritic score, a Metacritic User score, an IMDB score, and at least 30 fan reviews on Fandango. The \"after\" dataset consists of 214 of the most popular movies with a significant number of votes. The sampling is therefore not random, and so not necessarily indicative (likely not) of the population, or how Fandango treats ratings of movies that do not fit the selection criteria of the two datasets.\n",
    "\n",
    "Now, our original goal was to assess whether Fandango's movie rating system had changed. Looking at Hickey's sample, it's clear that we won't be able to assess whether Fandango's movie rating system has changed in toto, as Hickey did not sample movies that did not meet his criteria.\n",
    "\n",
    "Furthermore, the sampling criteria for the before and after datasets were not the same. This means our analysis will not evaluate a change in the rating system for such a specific population.\n",
    "\n",
    "However, the sampling criteria for each dataset is similar enough that we can say that they are both samples of \"popular\" movies (albeit with popular being defined differently in each case).\n",
    "\n",
    "Thus, our new goal will be to determine whether Fandango's movie rating system has changed with regards to how it rates popular movies.\n",
    "\n",
    "### Aside\n",
    "\n",
    "We could check how closely the after dataset fulfils the popularity criteria of the before dataset by checking how many of the films in the dataset have 30 or more fan reviews. Rather than go through all of the movies in the list, we can get a few sample movies from the dataset and then check those samples. We could do this with the code below"
   ]
  },
  {
   "cell_type": "code",
   "execution_count": 16,
   "metadata": {},
   "outputs": [
    {
     "data": {
      "text/html": [
       "<div>\n",
       "<style scoped>\n",
       "    .dataframe tbody tr th:only-of-type {\n",
       "        vertical-align: middle;\n",
       "    }\n",
       "\n",
       "    .dataframe tbody tr th {\n",
       "        vertical-align: top;\n",
       "    }\n",
       "\n",
       "    .dataframe thead th {\n",
       "        text-align: right;\n",
       "    }\n",
       "</style>\n",
       "<table border=\"1\" class=\"dataframe\">\n",
       "  <thead>\n",
       "    <tr style=\"text-align: right;\">\n",
       "      <th></th>\n",
       "      <th>movie</th>\n",
       "      <th>year</th>\n",
       "      <th>fandango</th>\n",
       "    </tr>\n",
       "  </thead>\n",
       "  <tbody>\n",
       "    <tr>\n",
       "      <th>197</th>\n",
       "      <td>The Take (Bastille Day)</td>\n",
       "      <td>2016</td>\n",
       "      <td>4.0</td>\n",
       "    </tr>\n",
       "    <tr>\n",
       "      <th>37</th>\n",
       "      <td>Come and Find Me</td>\n",
       "      <td>2016</td>\n",
       "      <td>4.0</td>\n",
       "    </tr>\n",
       "    <tr>\n",
       "      <th>89</th>\n",
       "      <td>Kickboxer</td>\n",
       "      <td>2016</td>\n",
       "      <td>4.0</td>\n",
       "    </tr>\n",
       "    <tr>\n",
       "      <th>176</th>\n",
       "      <td>The Founder</td>\n",
       "      <td>2016</td>\n",
       "      <td>4.0</td>\n",
       "    </tr>\n",
       "    <tr>\n",
       "      <th>170</th>\n",
       "      <td>The Darkness</td>\n",
       "      <td>2016</td>\n",
       "      <td>2.5</td>\n",
       "    </tr>\n",
       "    <tr>\n",
       "      <th>75</th>\n",
       "      <td>Ice Age: Collision Course</td>\n",
       "      <td>2016</td>\n",
       "      <td>4.0</td>\n",
       "    </tr>\n",
       "    <tr>\n",
       "      <th>96</th>\n",
       "      <td>Lion</td>\n",
       "      <td>2016</td>\n",
       "      <td>4.0</td>\n",
       "    </tr>\n",
       "    <tr>\n",
       "      <th>137</th>\n",
       "      <td>Ride Along 2</td>\n",
       "      <td>2016</td>\n",
       "      <td>4.0</td>\n",
       "    </tr>\n",
       "    <tr>\n",
       "      <th>5</th>\n",
       "      <td>A Monster Calls</td>\n",
       "      <td>2016</td>\n",
       "      <td>4.0</td>\n",
       "    </tr>\n",
       "    <tr>\n",
       "      <th>83</th>\n",
       "      <td>Jane Got a Gun</td>\n",
       "      <td>2016</td>\n",
       "      <td>3.5</td>\n",
       "    </tr>\n",
       "  </tbody>\n",
       "</table>\n",
       "</div>"
      ],
      "text/plain": [
       "                         movie  year  fandango\n",
       "197    The Take (Bastille Day)  2016       4.0\n",
       "37            Come and Find Me  2016       4.0\n",
       "89                   Kickboxer  2016       4.0\n",
       "176                The Founder  2016       4.0\n",
       "170               The Darkness  2016       2.5\n",
       "75   Ice Age: Collision Course  2016       4.0\n",
       "96                        Lion  2016       4.0\n",
       "137               Ride Along 2  2016       4.0\n",
       "5              A Monster Calls  2016       4.0\n",
       "83              Jane Got a Gun  2016       3.5"
      ]
     },
     "execution_count": 16,
     "metadata": {},
     "output_type": "execute_result"
    }
   ],
   "source": [
    "cut_after.sample(10, random_state = 0)"
   ]
  },
  {
   "cell_type": "markdown",
   "metadata": {},
   "source": [
    "Now we can start comparing the datasets. Let's begin by plotting some kernel density plots."
   ]
  },
  {
   "cell_type": "code",
   "execution_count": 20,
   "metadata": {},
   "outputs": [
    {
     "data": {
      "image/png": "[encoded data removed]",
      "text/plain": [
       "<Figure size 576x396 with 1 Axes>"
      ]
     },
     "metadata": {},
     "output_type": "display_data"
    }
   ],
   "source": [
    "import matplotlib.pyplot as plt\n",
    "import numpy as np\n",
    "%matplotlib inline\n",
    "\n",
    "plt.style.use(\"fivethirtyeight\")\n",
    "\n",
    "cut_after[\"fandango\"].plot.kde(label = \"After\", legend = True, figsize = (8, 5.5))\n",
    "cut_before[\"Fandango_Stars\"].plot.kde(label = \"Before\", legend = True)\n",
    "plt.title(\"Fandango Ratings Before & After System Changes\")\n",
    "plt.xlabel(\"Stars\")\n",
    "plt.ylabel(\"Density\")\n",
    "plt.xlim(0, 5)\n",
    "plt.xticks(np.arange(0, 5, 0.5))\n",
    "plt.show()"
   ]
  },
  {
   "cell_type": "markdown",
   "metadata": {},
   "source": [
    "Now, each of the samples that make up the datasets are quite small, but nonetheless there is a noticeable difference between the two plots. The modal value has reduced from around 4.5 to 4.0, the number of movies with ratings of 4.5 has naturally correspondingly decreased, and the number of movies with ratings of 3.5 has increased.\n",
    "\n",
    "It therefore seems likely that there has been a change in Fandango's movie rating system between the two datasets, and that the change appears to have resolved some of the issues Hickey outlines in his article.\n",
    "\n",
    "To confirm this, let's look at some frequency distribution tables. Given that the two datasets have different numbers of movies, we'll look at relative frequencies."
   ]
  },
  {
   "cell_type": "code",
   "execution_count": 26,
   "metadata": {},
   "outputs": [
    {
     "data": {
      "text/plain": [
       "3.0     8.219178\n",
       "3.5    18.493151\n",
       "4.0    28.082192\n",
       "4.5    37.671233\n",
       "5.0     7.534247\n",
       "Name: Fandango_Stars, dtype: float64"
      ]
     },
     "execution_count": 26,
     "metadata": {},
     "output_type": "execute_result"
    }
   ],
   "source": [
    "cut_before[\"Fandango_Stars\"].value_counts(normalize = True).sort_index() * 100"
   ]
  },
  {
   "cell_type": "code",
   "execution_count": 25,
   "metadata": {},
   "outputs": [
    {
     "data": {
      "text/plain": [
       "2.5     2.803738\n",
       "3.0     8.411215\n",
       "3.5    23.364486\n",
       "4.0    38.317757\n",
       "4.5    26.635514\n",
       "5.0     0.467290\n",
       "Name: fandango, dtype: float64"
      ]
     },
     "execution_count": 25,
     "metadata": {},
     "output_type": "execute_result"
    }
   ],
   "source": [
    "cut_after[\"fandango\"].value_counts(normalize = True).sort_index() * 100"
   ]
  },
  {
   "cell_type": "markdown",
   "metadata": {},
   "source": [
    "There is still a noticeable difference between the before and after ratings.\n",
    "\n",
    "Before, no films were rated 2.5 stars, and a higher proportion of films were rated 4, 4.5, and 5 stars.\n",
    "\n",
    "After, some films were rated 2.5 stars, and a lower proprtion of films were rated 4, 4.5, and 5.0 stars. A very small proportion of films were rated 5 stars, in fact, which is more in line with what we'd expect.\n",
    "\n",
    "As noted above, a higher proportion of films were rated 3.5 stars after than before. However, this is likely due to an overall reduction in rating value rather than an increase of < 3.5 rated films to 3.5, though we can't be sure of this fact from the data we have.\n",
    "\n",
    "To get a better idea of the datasets overall, let's now find the mean, median, and mode of the two."
   ]
  },
  {
   "cell_type": "code",
   "execution_count": 34,
   "metadata": {},
   "outputs": [
    {
     "data": {
      "text/html": [
       "<div>\n",
       "<style scoped>\n",
       "    .dataframe tbody tr th:only-of-type {\n",
       "        vertical-align: middle;\n",
       "    }\n",
       "\n",
       "    .dataframe tbody tr th {\n",
       "        vertical-align: top;\n",
       "    }\n",
       "\n",
       "    .dataframe thead th {\n",
       "        text-align: right;\n",
       "    }\n",
       "</style>\n",
       "<table border=\"1\" class=\"dataframe\">\n",
       "  <thead>\n",
       "    <tr style=\"text-align: right;\">\n",
       "      <th></th>\n",
       "      <th>before</th>\n",
       "      <th>after</th>\n",
       "    </tr>\n",
       "  </thead>\n",
       "  <tbody>\n",
       "    <tr>\n",
       "      <th>mean</th>\n",
       "      <td>4.089041</td>\n",
       "      <td>3.89486</td>\n",
       "    </tr>\n",
       "    <tr>\n",
       "      <th>median</th>\n",
       "      <td>4.000000</td>\n",
       "      <td>4.00000</td>\n",
       "    </tr>\n",
       "    <tr>\n",
       "      <th>mode</th>\n",
       "      <td>4.500000</td>\n",
       "      <td>4.00000</td>\n",
       "    </tr>\n",
       "  </tbody>\n",
       "</table>\n",
       "</div>"
      ],
      "text/plain": [
       "          before    after\n",
       "mean    4.089041  3.89486\n",
       "median  4.000000  4.00000\n",
       "mode    4.500000  4.00000"
      ]
     },
     "execution_count": 34,
     "metadata": {},
     "output_type": "execute_result"
    }
   ],
   "source": [
    "mean_before = cut_before[\"Fandango_Stars\"].mean()\n",
    "median_before = cut_before[\"Fandango_Stars\"].median()\n",
    "mode_before = cut_before[\"Fandango_Stars\"].mode()[0]\n",
    "\n",
    "mean_after = cut_after[\"fandango\"].mean()\n",
    "median_after = cut_after[\"fandango\"].median()\n",
    "mode_after = cut_after[\"fandango\"].mode()[0]\n",
    "\n",
    "summary_statistics = pd.DataFrame()\n",
    "summary_statistics[\"before\"] = [mean_before, median_before, mode_before]\n",
    "summary_statistics[\"after\"] = [mean_after, median_after, mode_after]\n",
    "summary_statistics.index = [\"mean\", \"median\", \"mode\"]\n",
    "summary_statistics"
   ]
  },
  {
   "cell_type": "markdown",
   "metadata": {},
   "source": [
    "Our conclusions above are supported by the summary statistics. The mean has decreased, indicating a general decrease in ratings in the after sample.\n",
    "\n",
    "Let's conclude by visualizing the differences in the summary statistics with a bar graph."
   ]
  },
  {
   "cell_type": "code",
   "execution_count": 45,
   "metadata": {
    "scrolled": true
   },
   "outputs": [
    {
     "data": {
      "image/png": "[encoded data removed]",
      "text/plain": [
       "<Figure size 432x288 with 1 Axes>"
      ]
     },
     "metadata": {},
     "output_type": "display_data"
    }
   ],
   "source": [
    "plt.style.use(\"fivethirtyeight\")\n",
    "\n",
    "summary_statistics[\"before\"].plot.bar(color = \"Blue\", label = \"before\", align = \"center\", width = 0.25)\n",
    "summary_statistics[\"after\"].plot.bar(color = \"Red\", label = \"after\", align = \"edge\", width = 0.25, rot = 0)\n",
    "\n",
    "plt.title(\"Comparison of Summary Statistics Before and After\")\n",
    "plt.ylabel(\"Stars\")\n",
    "plt.ylim(0, 5.5)\n",
    "plt.xlabel(\"Statistic\")\n",
    "plt.legend(framealpha = 0, loc = \"upper center\")\n",
    "plt.show()"
   ]
  }
 ],
 "metadata": {
  "kernelspec": {
   "display_name": "Python 3",
   "language": "python",
   "name": "python3"
  },
  "language_info": {
   "codemirror_mode": {
    "name": "ipython",
    "version": 3
   },
   "file_extension": ".py",
   "mimetype": "text/x-python",
   "name": "python",
   "nbconvert_exporter": "python",
   "pygments_lexer": "ipython3",
   "version": "3.7.1"
  }
 },
 "nbformat": 4,
 "nbformat_minor": 2
}
