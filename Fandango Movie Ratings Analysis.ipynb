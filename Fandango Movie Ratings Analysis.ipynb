{
 "cells": [
  {
   "cell_type": "markdown",
   "metadata": {},
   "source": [
    "## Analyzing Fandango's Movie Ratings System\n",
    "\n",
    "In this project, we'll be looking at Fandango's movie ratings system.\n",
    "\n",
    "In 2015, Walt Hickey wrote [an article](https://fivethirtyeight.com/features/fandango-movies-ratings/) on Fandango's movie ratings, showing that there was a discrepancy between the ratings that site visitors were shown for each movie and the actual rating as recorded in the HTML code of the page, leading him to accuse Fandango of dishonesty and bias.\n",
    "\n",
    "The cause of this issue has supposedly been fixed, but in this project, we'll be investigating whether the ratings system has changed at all since Hickey's analysis in 2015.\n",
    "\n",
    "To do this, we'll be looking at the ratings system's characteristics before and after Hickey's analysis in order to determine whether there has been any change. We'll use the data Hickey collected himself for the \"before\" dataset, and data collected by Dataquest for the \"after\" dataset."
   ]
  },
  {
   "cell_type": "code",
   "execution_count": null,
   "metadata": {
    "collapsed": true
   },
   "outputs": [],
   "source": [
    "import pandas as pd\n",
    "\n",
    "before = pd.read_csv(\"fandango_score_comparison.csv\")\n",
    "after = pd.read_csv(\"movie_ratings_16_17.cs\")"
   ]
  }
 ],
 "metadata": {
  "kernelspec": {
   "display_name": "Python 3",
   "language": "python",
   "name": "python3"
  },
  "language_info": {
   "codemirror_mode": {
    "name": "ipython",
    "version": 3
   },
   "file_extension": ".py",
   "mimetype": "text/x-python",
   "name": "python",
   "nbconvert_exporter": "python",
   "pygments_lexer": "ipython3",
   "version": "3.4.3"
  }
 },
 "nbformat": 4,
 "nbformat_minor": 2
}
